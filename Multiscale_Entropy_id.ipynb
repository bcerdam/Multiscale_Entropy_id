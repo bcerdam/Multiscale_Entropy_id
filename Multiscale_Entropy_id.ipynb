{
  "nbformat": 4,
  "nbformat_minor": 0,
  "metadata": {
    "colab": {
      "provenance": []
    },
    "kernelspec": {
      "name": "python3",
      "display_name": "Python 3"
    },
    "language_info": {
      "name": "python"
    }
  },
  "cells": [
    {
      "cell_type": "markdown",
      "source": [
        "# Implementacion Multiscale Entropy id en google colab"
      ],
      "metadata": {
        "id": "xVoLgHPtU0nk"
      }
    },
    {
      "cell_type": "code",
      "execution_count": 24,
      "metadata": {
        "colab": {
          "base_uri": "https://localhost:8080/"
        },
        "id": "3g8hcedNQkGT",
        "outputId": "55bebabc-f56e-4cb1-c9ef-ef57a5cfea8e"
      },
      "outputs": [
        {
          "output_type": "stream",
          "name": "stdout",
          "text": [
            "fatal: destination path 'Multiscale_Entropy_id' already exists and is not an empty directory.\n",
            "Error: Command '['/content/env/bin/python3', '-m', 'ensurepip', '--upgrade', '--default-pip']' returned non-zero exit status 1.\n",
            "/bin/bash: line 1: ./env/bin/activate: No such file or directory\n",
            "Using pip 24.1.2 from /usr/local/lib/python3.11/dist-packages/pip (python 3.11)\n",
            "Obtaining file:///content\n",
            "\u001b[31mERROR: file:///content does not appear to be a Python project: neither 'setup.py' nor 'pyproject.toml' found.\u001b[0m\u001b[31m\n",
            "\u001b[0m"
          ]
        }
      ],
      "source": [
        "# Clone\n",
        "\n",
        "!git clone https://github.com/bcerdam/Multiscale_Entropy_id.git\n",
        "!cd Multiscale_Entropy_id\n",
        "!python3 -m venv env\n",
        "!source ./env/bin/activate\n",
        "!pip install -v -e ."
      ]
    },
    {
      "cell_type": "code",
      "source": [
        "# Compile\n",
        "\n",
        "!gcc -o /content/Multiscale_Entropy_id/core_c/mse_1d/executables/mse_1d_p /content/Multiscale_Entropy_id/core_c/mse_1d/scripts/mse_1d.c /content/Multiscale_Entropy_id/core_c/mse_1d/scripts/read_csv.c /content/Multiscale_Entropy_id/core_c/mse_1d/scripts/signal_std.c /content/Multiscale_Entropy_id/core_c/mse_1d/scripts/utils.c  -lm -fopenmp -I/content/Multiscale_Entropy_id/core_c/mse_1d/headers\n",
        "!gcc -o /content/Multiscale_Entropy_id/core_c/mse_2d/executables/mse_2d_p /content/Multiscale_Entropy_id/core_c/mse_2d/scripts/mse_2d.c /content/Multiscale_Entropy_id/core_c/mse_2d/scripts/read_csv.c /content/Multiscale_Entropy_id/core_c/mse_2d/scripts/utils.c  -lm -fopenmp -I/content/Multiscale_Entropy_id/core_c/mse_2d/headers\n",
        "!gcc -o /content/Multiscale_Entropy_id/core_c/mse_3d/executables/mse_3d_p /content/Multiscale_Entropy_id/core_c/mse_3d/scripts/mse_3d.c /content/Multiscale_Entropy_id/core_c/mse_3d/scripts/read_csv.c /content/Multiscale_Entropy_id/core_c/mse_3d/scripts/signal_std.c /content/Multiscale_Entropy_id/core_c/mse_3d/scripts/utils.c -lm -fopenmp -I/content/Multiscale_Entropy_id/core_c/mse_3d/headers"
      ],
      "metadata": {
        "id": "ravH9IwuQ9su"
      },
      "execution_count": 25,
      "outputs": []
    },
    {
      "cell_type": "code",
      "source": [
        "# MSE 1D\n",
        "\n",
        "!python3 /content/Multiscale_Entropy_id/multiscale_entropy_id.py --algorithm mse_1d --input /content/Multiscale_Entropy_id/examples/mse_1d/ --scales 20 --m 2 --r 0.2 --fuzzy True --method RCMSE --n_threads 8"
      ],
      "metadata": {
        "colab": {
          "base_uri": "https://localhost:8080/"
        },
        "id": "vm3IRpfWSE1Q",
        "outputId": "371125b4-bc10-4a4c-9b6b-9b7d02eca981"
      },
      "execution_count": 26,
      "outputs": [
        {
          "output_type": "stream",
          "name": "stdout",
          "text": [
            "['white_noise_10000.csv', [1.418217, 1.111481, 0.929143, 0.817827, 0.728462, 0.659541, 0.608999, 0.571159, 0.523154, 0.48581, 0.459887, 0.440696, 0.413407, 0.390621, 0.379414, 0.368639, 0.349663, 0.328392, 0.325611, 0.31587]]\n",
            "['pink_noise_10000.csv', [0.819523, 0.797725, 0.781068, 0.77152, 0.776225, 0.755203, 0.744001, 0.743818, 0.742043, 0.72933, 0.729041, 0.727261, 0.714359, 0.721848, 0.718681, 0.724374, 0.721415, 0.724526, 0.726308, 0.725241]]\n",
            "['cte_color_10000.csv', [-0.0, -0.0, -0.0, -0.0, -0.0, -0.0, -0.0, -0.0, -0.0, -0.0, -0.0, -0.0, -0.0, -0.0, -0.0, -0.0, -0.0, -0.0, -0.0, -0.0]]\n"
          ]
        }
      ]
    },
    {
      "cell_type": "code",
      "source": [
        "# MSE 2D\n",
        "\n",
        "!python3 /content/Multiscale_Entropy_id/multiscale_entropy_id.py --algorithm mse_2d --input /content/Multiscale_Entropy_id/examples/mse_2d/ --scales 20 --m 2 --r 0.2 --fuzzy True --n_threads 8"
      ],
      "metadata": {
        "colab": {
          "base_uri": "https://localhost:8080/"
        },
        "id": "vRPsRwdyTRtD",
        "outputId": "099c25c6-49c9-4db0-d3ea-47f56d46f193"
      },
      "execution_count": 27,
      "outputs": [
        {
          "output_type": "stream",
          "name": "stdout",
          "text": [
            "['white_noise_1.jpeg', [2.377702, 1.107189, 0.57274, 0.355355, 0.210674, 0.155669, 0.108469, 0.077405, 0.064743, 0.063626, 0.051383, 0.040754, 0.029883, 0.017641, 0.028231, 0.027877, 0.022821, 0.02817, 0.020717, 0.025374]]\n",
            "['solid-color-image.png', [-0.0, -0.0, -0.0, -0.0, -0.0, -0.0, -0.0, -0.0, -0.0, -0.0, -0.0, -0.0, -0.0, -0.0, -0.0, -0.0, -0.0, -0.0, -0.0, -0.0]]\n"
          ]
        }
      ]
    },
    {
      "cell_type": "code",
      "source": [
        "# MSE 3D\n",
        "\n",
        "!python3 /content/Multiscale_Entropy_id/multiscale_entropy_id.py --algorithm mse_3d --input /content/Multiscale_Entropy_id/examples/mse_3d/ --scales 20 --m 2 --r 0.2 --fuzzy True --method RCMSE --n_threads 8"
      ],
      "metadata": {
        "colab": {
          "base_uri": "https://localhost:8080/"
        },
        "id": "RzXsqpjbUb4J",
        "outputId": "69c06459-1ecc-47f2-9925-1f841146a2a2"
      },
      "execution_count": 28,
      "outputs": [
        {
          "output_type": "stream",
          "name": "stdout",
          "text": [
            "['nature_frames', [1.02014, 1.04727, 1.07217, 1.086018, 1.067968, 1.059042, 1.076485, 1.057877, 1.03457, 1.054014, 1.010899, 0.976757, 1.015568, 1.053223, 1.066454, 1.099005, 1.120855, 1.133587, 1.174815, 1.225747]]\n",
            "['white_noise', [15.563901, 9.504736, 7.484924, 6.02035, 5.061712, 4.33498, 3.803837, 3.507064, 3.019007, 2.814286, 2.722622, 2.442107, 2.356511, 2.193827, 2.128339, 2.053141, 1.859558, 1.769802, 1.680537, 1.612165]]\n",
            "['cte_color', [-0.0, -0.0, -0.0, -0.0, -0.0, -0.0, -0.0, -0.0, -0.0, -0.0, -0.0, -0.0, -0.0, -0.0, -0.0, -0.0, -0.0, -0.0, -0.0, -0.0]]\n"
          ]
        }
      ]
    },
    {
      "cell_type": "code",
      "source": [],
      "metadata": {
        "id": "iPqQl3AhUtAv"
      },
      "execution_count": null,
      "outputs": []
    }
  ]
}